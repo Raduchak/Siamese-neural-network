{
  "nbformat": 4,
  "nbformat_minor": 0,
  "metadata": {
    "colab": {
      "provenance": [],
      "gpuType": "T4"
    },
    "kernelspec": {
      "name": "python3",
      "display_name": "Python 3"
    },
    "language_info": {
      "name": "python"
    },
    "accelerator": "GPU"
  },
  "cells": [
    {
      "cell_type": "code",
      "execution_count": null,
      "metadata": {
        "colab": {
          "base_uri": "https://localhost:8080/"
        },
        "id": "FD5uNQeIfGpw",
        "outputId": "36f90a99-aee0-4245-82c9-afb28255934c"
      },
      "outputs": [
        {
          "output_type": "execute_result",
          "data": {
            "text/plain": [
              "<torch._C.Generator at 0x7f6c75b9d170>"
            ]
          },
          "metadata": {},
          "execution_count": 39
        }
      ],
      "source": [
        "import numpy as np\n",
        "import torch\n",
        "import torch.nn as nn\n",
        "import torch.nn.functional as F\n",
        "from torch.utils.data import Dataset, DataLoader, random_split, SubsetRandomSampler\n",
        "from torchvision import transforms\n",
        "import matplotlib.pyplot as plt\n",
        "\n",
        "SEED = 7\n",
        "device = torch.device('cuda' if torch.cuda.is_available() else 'cpu')\n",
        "torch.manual_seed(SEED)"
      ]
    },
    {
      "cell_type": "code",
      "source": [
        "# inspiracja: https://datahacker.rs/019-siamese-network-in-pytorch-with-application-to-face-similarity/"
      ],
      "metadata": {
        "id": "Cy6c__LZmv3p"
      },
      "execution_count": null,
      "outputs": []
    },
    {
      "cell_type": "code",
      "source": [
        "def generate_normal_vectors(mean, std_dev, size, dimension):\n",
        "    A = np.random.normal(loc=mean, scale=std_dev, size=(size, dimension))\n",
        "    B = np.random.normal(loc=mean, scale=std_dev, size=(size, dimension))\n",
        "    return A, B\n",
        "\n",
        "class SiameseNetworkDataset(Dataset):\n",
        "    def __init__(self, vectors_A, vectors_B):\n",
        "        self.vectors_A = vectors_A\n",
        "        self.vectors_B = vectors_B\n",
        "\n",
        "\n",
        "    def __len__(self):\n",
        "        return len(self.vectors_A)\n",
        "\n",
        "    def __getitem__(self, index):\n",
        "        vector_A = torch.FloatTensor(self.vectors_A[index])\n",
        "        vector_B = torch.FloatTensor(self.vectors_B[index])\n",
        "        label = torch.norm(vector_A - vector_B)\n",
        "\n",
        "        return vector_A, vector_B, label"
      ],
      "metadata": {
        "id": "RHjAoDZffNhH"
      },
      "execution_count": null,
      "outputs": []
    },
    {
      "cell_type": "code",
      "source": [
        "class SiameseNetwork(nn.Module):\n",
        "    def __init__(self, input_size):\n",
        "        super(SiameseNetwork, self).__init__()\n",
        "\n",
        "        # Setting up the Fully Connected Layers\n",
        "        self.fc1 = nn.Sequential(\n",
        "            nn.Linear(input_size, 512),\n",
        "            nn.ReLU(inplace=True),\n",
        "\n",
        "            nn.Linear(512, 256),\n",
        "            nn.ReLU(inplace=True),\n",
        "\n",
        "            nn.Linear(256, 2)\n",
        "        )\n",
        "\n",
        "    def forward(self, input1, input2):\n",
        "        # In this function, we pass in both vectors and obtain both vectors\n",
        "        # which are returned\n",
        "        output1 = self.fc1(input1)\n",
        "        output2 = self.fc1(input2)\n",
        "\n",
        "        return output1, output2"
      ],
      "metadata": {
        "id": "aoYte2o9mf0v"
      },
      "execution_count": null,
      "outputs": []
    },
    {
      "cell_type": "code",
      "source": [
        "class SiameseLoss(nn.Module):\n",
        "  # pomysł z funkcją contrastive loss\n",
        "  # def __init__(self, margin=2.0):\n",
        "  #     super(SiameseLoss, self).__init__()\n",
        "  #     self.margin = margin\n",
        "\n",
        "  # def forward(self, output1, output2, label):\n",
        "  #   # Calculate the euclidean distance and calculate the contrastive loss\n",
        "  #   euclidean_distance = F.pairwise_distance(output1, output2, keepdim = True)\n",
        "\n",
        "  #   loss_contrastive = torch.mean((1-label) * torch.pow(euclidean_distance, 2) +\n",
        "  #                                 (label) * torch.pow(torch.clamp(self.margin - euclidean_distance, min=0.0), 2))\n",
        "\n",
        "\n",
        "  #   return loss_contrastive\n",
        "    def __init__(self):\n",
        "        super(SiameseLoss, self).__init__()\n",
        "\n",
        "    def forward(self, output1, output2, target):\n",
        "        euclidean_distance = torch.sqrt(torch.sum(torch.pow(output1 - output2, 2), 1))\n",
        "        loss = nn.MSELoss()(euclidean_distance, target)\n",
        "        return loss"
      ],
      "metadata": {
        "id": "sCvD8nfHmsHX"
      },
      "execution_count": null,
      "outputs": []
    },
    {
      "cell_type": "code",
      "source": [
        "# generowanie wektorów w przestrzeni DIM wymiarowej z liczbą próbek równą SIZE\n",
        "DIM = 5\n",
        "SIZE = 10000\n",
        "vectors_A, vectors_B = generate_normal_vectors(0, 1, SIZE, DIM)\n",
        "siamese_dataset = SiameseNetworkDataset(vectors_A, vectors_B)\n",
        "\n",
        "# Testowanie dostępu do elementów w klasie Dataset\n",
        "for i in range(3):\n",
        "    sample = siamese_dataset[i]\n",
        "    print(\"Wektor A:\", sample[0])\n",
        "    print(\"Wektor B:\", sample[1])\n",
        "    print(\"Etykieta:\", sample[2])\n",
        "    print(\"\\n\")\n"
      ],
      "metadata": {
        "colab": {
          "base_uri": "https://localhost:8080/"
        },
        "id": "TpUZ9ODtfbS3",
        "outputId": "65775d43-a704-4ee1-a08c-16420d73e9a1"
      },
      "execution_count": null,
      "outputs": [
        {
          "output_type": "stream",
          "name": "stdout",
          "text": [
            "Wektor A: tensor([-0.2970,  1.8194,  0.6723, -0.5436,  0.2082])\n",
            "Wektor B: tensor([-1.2174, -1.9320, -0.3307,  0.0312, -1.1086])\n",
            "Etykieta: tensor(4.2415)\n",
            "\n",
            "\n",
            "Wektor A: tensor([-0.4336, -2.4398, -0.2295, -0.1531, -1.5420])\n",
            "Wektor B: tensor([ 0.8149, -0.2361,  1.6607, -0.6218,  0.0985])\n",
            "Etykieta: tensor(3.5915)\n",
            "\n",
            "\n",
            "Wektor A: tensor([ 0.7187,  0.0343, -1.3620,  0.5158,  0.9281])\n",
            "Wektor B: tensor([-2.8004, -0.7567,  0.4151, -1.6915, -2.0897])\n",
            "Etykieta: tensor(5.4906)\n",
            "\n",
            "\n"
          ]
        }
      ]
    },
    {
      "cell_type": "code",
      "source": [
        "# Podział na zbiór uczący, walidacyjny i testowy\n",
        "dataset_size = len(siamese_dataset)\n",
        "train_size = int(0.8 * dataset_size)\n",
        "val_size = int(0.1 * dataset_size)\n",
        "test_size = dataset_size - train_size - val_size\n",
        "\n",
        "train_dataset, val_dataset, test_dataset = random_split(siamese_dataset, [train_size, val_size, test_size])\n",
        "\n",
        "# Indeksy dla SubsetRandomSampler\n",
        "train_indices = list(range(train_size))\n",
        "val_indices = list(range(train_size, train_size + val_size))\n",
        "test_indices = list(range(train_size + val_size, dataset_size))\n",
        "\n",
        "# Samplery dla DataLoader\n",
        "train_sampler = SubsetRandomSampler(train_indices)\n",
        "val_sampler = SubsetRandomSampler(val_indices)\n",
        "test_sampler = SubsetRandomSampler(test_indices)\n",
        "\n",
        "# DataLoader\n",
        "batch_size = 16\n",
        "train_loader = DataLoader(siamese_dataset, batch_size=batch_size, sampler=train_sampler)\n",
        "val_loader = DataLoader(siamese_dataset, batch_size=batch_size, sampler=val_sampler)\n",
        "test_loader = DataLoader(siamese_dataset, batch_size=batch_size, sampler=test_sampler)\n"
      ],
      "metadata": {
        "id": "Ypo4GahrjCNe"
      },
      "execution_count": null,
      "outputs": []
    },
    {
      "cell_type": "code",
      "source": [
        "net = SiameseNetwork(DIM).to(device)\n",
        "criterion = SiameseLoss()\n",
        "optimizer = torch.optim.Adam(net.parameters(), lr = 0.0005 )"
      ],
      "metadata": {
        "id": "LdkmbSlfm1JV"
      },
      "execution_count": null,
      "outputs": []
    },
    {
      "cell_type": "code",
      "source": [
        "counter = []\n",
        "train_loss_history = []\n",
        "val_loss_history = []\n",
        "iteration_number = 0\n",
        "\n",
        "# Iterate through the epochs\n",
        "for epoch in range(50):\n",
        "\n",
        "    # Training\n",
        "    for i, (vec1, vec2, label) in enumerate(train_loader, 0):\n",
        "        vec1, vec2, label = vec1.to(device), vec2.to(device), label.to(device)\n",
        "        optimizer.zero_grad()\n",
        "        output1, output2 = net(vec1, vec2)\n",
        "        loss_siamese = criterion(output1, output2, label)\n",
        "        loss_siamese.backward()\n",
        "        optimizer.step()\n",
        "\n",
        "    # Validation\n",
        "    net.eval()  # Set the model to evaluation mode\n",
        "    val_loss = 0.0\n",
        "    with torch.no_grad():\n",
        "        for i, (val_vec1, val_vec2, val_label) in enumerate(val_loader, 0):\n",
        "            val_vec1, val_vec2, val_label = val_vec1.to(device), val_vec2.to(device), val_label.to(device)\n",
        "            val_output1, val_output2 = net(val_vec1, val_vec2)\n",
        "            val_loss += criterion(val_output1, val_output2, val_label).item()\n",
        "\n",
        "    val_loss /= len(val_loader.dataset)  # Calculate the average validation loss\n",
        "    net.train()  # Set the model back to training mode\n",
        "\n",
        "    # Print and store training and validation loss every 10 epochs\n",
        "    if (epoch+1) % 2 == 0 or epoch == 0:\n",
        "        print(f\"Epoch number {epoch+1:<5} Training loss {loss_siamese.item():.4f} Validation loss {val_loss:.4f}\")\n",
        "        iteration_number += 2\n",
        "        counter.append(iteration_number)\n",
        "        train_loss_history.append(loss_siamese.item())\n",
        "        val_loss_history.append(val_loss)\n",
        "\n",
        "test_loss = 0.0\n",
        "with torch.no_grad():\n",
        "    for i, (test_vec1, test_vec2, test_label) in enumerate(test_loader, 0):\n",
        "        test_vec1, test_vec2, test_label = test_vec1.to(device), test_vec2.to(device), test_label.to(device)\n",
        "        test_output1, test_output2 = net(test_vec1, test_vec2)\n",
        "        test_loss += criterion(test_output1, test_output2, test_label).item()\n",
        "print(f\"\\nTest loss {test_loss:.4f}\")\n",
        "\n",
        "# Plot the training and validation loss\n",
        "plt.plot(counter, train_loss_history, label='Training Loss')\n",
        "plt.plot(counter, val_loss_history, label='Validation Loss')\n",
        "plt.legend()\n",
        "plt.show()"
      ],
      "metadata": {
        "id": "3YU1YMnDtYdw"
      },
      "execution_count": null,
      "outputs": []
    },
    {
      "cell_type": "code",
      "source": [
        "import numpy as np\n",
        "import torch\n",
        "import torch.nn as nn\n",
        "import torch.nn.functional as F\n",
        "from torch.utils.data import Dataset, DataLoader, random_split, SubsetRandomSampler\n",
        "from torchvision import transforms\n",
        "import matplotlib.pyplot as plt\n",
        "\n",
        "\n",
        "DIM = 5\n",
        "SEED = 7\n",
        "device = torch.device('cuda' if torch.cuda.is_available() else 'cpu')\n",
        "torch.manual_seed(SEED)\n",
        "\n",
        "def generate_normal_vectors(mean, std_dev, size, dimension):\n",
        "    A = np.random.normal(loc=mean, scale=std_dev, size=(size, dimension))\n",
        "    B = np.random.normal(loc=mean, scale=std_dev, size=(size, dimension))\n",
        "    return A, B\n",
        "\n",
        "class SiameseNetwork(nn.Module):\n",
        "    def __init__(self):\n",
        "        super(SiameseNetwork, self).__init__()\n",
        "        self.fc1 = nn.Linear(DIM, 64)\n",
        "        self.fc2 = nn.Linear(64, 64)\n",
        "        self.fc3 = nn.Linear(64, 1)\n",
        "\n",
        "    def forward(self, x1, x2):\n",
        "        x1 = F.relu(self.fc1(x1))\n",
        "        x1 = F.relu(self.fc2(x1))\n",
        "        x2 = F.relu(self.fc1(x2))\n",
        "        x2 = F.relu(self.fc2(x2))\n",
        "        distance = torch.abs(x1 - x2)\n",
        "        distance = self.fc3(distance)\n",
        "        return distance\n",
        "\n",
        "# Create an instance of the SiameseNetwork\n",
        "siamese_net = SiameseNetwork()\n",
        "siamese_net.to(device)\n",
        "\n",
        "# Create a dataset class\n",
        "class SiameseDataset(Dataset):\n",
        "    def __init__(self, A, B):\n",
        "        self.A = A\n",
        "        self.B = B\n",
        "\n",
        "    def __len__(self):\n",
        "        return len(self.A)\n",
        "\n",
        "    def __getitem__(self, idx):\n",
        "        return self.A[idx], self.B[idx]\n",
        "\n",
        "\n",
        "# Create a dataset instance\n",
        "A, B = generate_normal_vectors(0, 1, 10000, DIM)\n",
        "dataset = SiameseDataset(A, B)\n",
        "\n",
        "# Split the dataset into train, test and validation sets\n",
        "train_size = int(0.8 * len(dataset))\n",
        "test_size = int(0.1 * len(dataset))\n",
        "val_size = len(dataset) - train_size - test_size\n",
        "train_dataset, test_dataset, val_dataset = random_split(dataset, [train_size, test_size, val_size])\n",
        "\n",
        "# Create dataloaders\n",
        "train_loader = DataLoader(train_dataset, batch_size=64, shuffle=True)\n",
        "test_loader = DataLoader(test_dataset, batch_size=64, shuffle=True)\n",
        "val_loader = DataLoader(val_dataset, batch_size=64, shuffle=True)\n",
        "\n",
        "# Define the loss function and optimizer\n",
        "criterion = nn.MSELoss()\n",
        "optimizer = torch.optim.Adam(siamese_net.parameters(), lr=0.001)\n",
        "\n",
        "# Train the model with validation every 10 epochs\n",
        "num_epochs = 50\n",
        "\n",
        "train_loss_list = []\n",
        "val_loss_list = []\n",
        "counter = []\n",
        "for epoch in range(num_epochs):\n",
        "    for A, B in train_loader:\n",
        "        A = A.to(device).float()  # Convert A to float data type\n",
        "        B = B.to(device).float()  # Convert B to float data type\n",
        "        optimizer.zero_grad()\n",
        "        outputs = siamese_net(A, B).squeeze()\n",
        "        loss = criterion(outputs, torch.norm(A - B, dim=1))\n",
        "        loss.backward()\n",
        "        optimizer.step()\n",
        "    if epoch % 2 == 0:\n",
        "        with torch.no_grad():\n",
        "            for A, B in val_loader:\n",
        "                A = A.to(device).float()\n",
        "                B = B.to(device).float()\n",
        "                outputs = siamese_net(A, B).squeeze()\n",
        "                val_loss = criterion(outputs, torch.norm(A - B, dim=1))\n",
        "        counter.append(epoch)\n",
        "        train_loss_list.append(loss.item())\n",
        "        val_loss_list.append(val_loss.item())\n",
        "        print(f'Epoch {epoch} | Train Loss: {loss.item():.5f} | Val Loss: {val_loss.item():.5f}')\n",
        "\n",
        "# Show charts\n",
        "plt.plot(counter,train_loss_list, label='Train Loss')\n",
        "plt.plot(counter,val_loss_list, label='Val Loss')\n",
        "\n",
        "# Test the model\n",
        "# Test the model\n",
        "with torch.no_grad():\n",
        "    for A, B in test_loader:\n",
        "        A = A.to(device).float()\n",
        "        B = B.to(device).float()\n",
        "        outputs = siamese_net(A, B).squeeze()\n",
        "        test_loss = criterion(outputs,  torch.norm(A - B, dim=1))\n",
        "    print(f'Test Loss: {test_loss.item():.5f}')"
      ],
      "metadata": {
        "colab": {
          "base_uri": "https://localhost:8080/",
          "height": 892
        },
        "id": "oywHvINnn50r",
        "outputId": "1bfe65be-0615-49d7-e713-23dbfb972b1c"
      },
      "execution_count": null,
      "outputs": [
        {
          "output_type": "stream",
          "name": "stdout",
          "text": [
            "Epoch 0 | Train Loss: 0.09828 | Val Loss: 0.11144\n",
            "Epoch 2 | Train Loss: 0.03965 | Val Loss: 0.04076\n",
            "Epoch 4 | Train Loss: 0.02538 | Val Loss: 0.01994\n",
            "Epoch 6 | Train Loss: 0.01343 | Val Loss: 0.02086\n",
            "Epoch 8 | Train Loss: 0.01152 | Val Loss: 0.02113\n",
            "Epoch 10 | Train Loss: 0.00952 | Val Loss: 0.01275\n",
            "Epoch 12 | Train Loss: 0.01035 | Val Loss: 0.01283\n",
            "Epoch 14 | Train Loss: 0.00694 | Val Loss: 0.00792\n",
            "Epoch 16 | Train Loss: 0.00793 | Val Loss: 0.00735\n",
            "Epoch 18 | Train Loss: 0.00522 | Val Loss: 0.00737\n",
            "Epoch 20 | Train Loss: 0.00556 | Val Loss: 0.00775\n",
            "Epoch 22 | Train Loss: 0.00610 | Val Loss: 0.00739\n",
            "Epoch 24 | Train Loss: 0.00460 | Val Loss: 0.01051\n",
            "Epoch 26 | Train Loss: 0.00572 | Val Loss: 0.00929\n",
            "Epoch 28 | Train Loss: 0.00453 | Val Loss: 0.00891\n",
            "Epoch 30 | Train Loss: 0.00420 | Val Loss: 0.00570\n",
            "Epoch 32 | Train Loss: 0.00272 | Val Loss: 0.00696\n",
            "Epoch 34 | Train Loss: 0.00471 | Val Loss: 0.00654\n",
            "Epoch 36 | Train Loss: 0.00371 | Val Loss: 0.00962\n",
            "Epoch 38 | Train Loss: 0.00356 | Val Loss: 0.00642\n",
            "Epoch 40 | Train Loss: 0.00408 | Val Loss: 0.00667\n",
            "Epoch 42 | Train Loss: 0.00560 | Val Loss: 0.00483\n",
            "Epoch 44 | Train Loss: 0.00366 | Val Loss: 0.00639\n",
            "Epoch 46 | Train Loss: 0.00386 | Val Loss: 0.00620\n",
            "Epoch 48 | Train Loss: 0.00334 | Val Loss: 0.00721\n",
            "Test Loss: 0.00919\n"
          ]
        },
        {
          "output_type": "display_data",
          "data": {
            "text/plain": [
              "<Figure size 640x480 with 1 Axes>"
            ],
            "image/png": "[encoded data removed]"
          },
          "metadata": {}
        }
      ]
    },
    {
      "cell_type": "code",
      "source": [
        "class KDTree(object):\n",
        "\n",
        "    \"\"\"\n",
        "    A super short KD-Tree for points...\n",
        "    so concise that you can copypasta into your homework\n",
        "    without arousing suspicion.\n",
        "\n",
        "    This implementation only supports Euclidean distance.\n",
        "\n",
        "    The points can be any array-like type, e.g:\n",
        "        lists, tuples, numpy arrays.\n",
        "\n",
        "    Usage:\n",
        "    1. Make the KD-Tree:\n",
        "        `kd_tree = KDTree(points, dim)`\n",
        "    2. You can then use `get_knn` for k nearest neighbors or\n",
        "       `get_nearest` for the nearest neighbor\n",
        "\n",
        "    points are be a list of points: [[0, 1, 2], [12.3, 4.5, 2.3], ...]\n",
        "    \"\"\"\n",
        "    def __init__(self, points, dim,dist_sq_func=None):\n",
        "        \"\"\"Makes the KD-Tree for fast lookup.\n",
        "\n",
        "        Parameters\n",
        "        ----------\n",
        "        points : list<point>\n",
        "            A list of points.\n",
        "        dim : int\n",
        "            The dimension of the points.\n",
        "        dist_sq_func : function(point, point), optional\n",
        "            A function that returns the squared Euclidean distance\n",
        "            between the two points.\n",
        "            If omitted, it uses the default implementation.\n",
        "        \"\"\"\n",
        "\n",
        "        if dist_sq_func is None:\n",
        "            dist_sq_func = lambda a, b: sum((x - b[i]) ** 2\n",
        "                for i, x in enumerate(a))\n",
        "\n",
        "        def sort_tensor(t, col):\n",
        "            return t[t[:,col].sort()[1]]\n",
        "        def make(points, i=0):\n",
        "            if len(points) > 1:\n",
        "                sort_tensor(points,i)\n",
        "                i = (i + 1) % dim\n",
        "                m = len(points) >> 1\n",
        "                return [make(points[:m], i), make(points[m + 1:], i),\n",
        "                    points[m]]\n",
        "            if len(points) == 1:\n",
        "                return [None, None, points[0]]\n",
        "\n",
        "        def add_point(node, point, i=0):\n",
        "            if node is not None:\n",
        "                dx = node[2][i] - point[i]\n",
        "                for j, c in ((0, dx >= 0), (1, dx < 0)):\n",
        "                    if c and node[j] is None:\n",
        "                        node[j] = [None, None, point]\n",
        "                    elif c:\n",
        "                        add_point(node[j], point, (i + 1) % dim)\n",
        "\n",
        "        import heapq\n",
        "        def get_knn(node, point, k, return_dist_sq, heap, i=0, tiebreaker=1):\n",
        "            if node is not None:\n",
        "                dist_sq = dist_sq_func(point, node[2])\n",
        "                dx = node[2][i] - point[i]\n",
        "                if len(heap) < k:\n",
        "                    heapq.heappush(heap, (-dist_sq, tiebreaker, node[2]))\n",
        "                elif dist_sq < -heap[0][0]:\n",
        "                    heapq.heappushpop(heap, (-dist_sq, tiebreaker, node[2]))\n",
        "                i = (i + 1) % dim\n",
        "                # Goes into the left branch, then the right branch if needed\n",
        "                for b in (dx < 0, dx >= 0)[:1 + (dx * dx < -heap[0][0])]:\n",
        "                    get_knn(node[b], point, k, return_dist_sq,\n",
        "                        heap, i, (tiebreaker << 1) | b)\n",
        "            if tiebreaker == 1:\n",
        "                return [(-h[0], h[2]) if return_dist_sq else h[2]\n",
        "                    for h in sorted(heap)][::-1]\n",
        "\n",
        "        def walk(node):\n",
        "            if node is not None:\n",
        "                for j in 0, 1:\n",
        "                    for x in walk(node[j]):\n",
        "                        yield x\n",
        "                yield node[2]\n",
        "        self._add_point = add_point\n",
        "        self._get_knn = get_knn\n",
        "        self._root = make(points)\n",
        "        self._walk = walk\n",
        "\n",
        "    def __iter__(self):\n",
        "        return self._walk(self._root)\n",
        "\n",
        "    def add_point(self, point):\n",
        "        \"\"\"Adds a point to the kd-tree.\n",
        "\n",
        "        Parameters\n",
        "        ----------\n",
        "        point : array-like\n",
        "            The point.\n",
        "        \"\"\"\n",
        "        if self._root is None:\n",
        "            self._root = [None, None, point]\n",
        "        else:\n",
        "            self._add_point(self._root, point)\n",
        "\n",
        "    def get_knn(self, point, k, return_dist_sq=True):\n",
        "        \"\"\"Returns k nearest neighbors.\n",
        "\n",
        "        Parameters\n",
        "        ----------\n",
        "        point : array-like\n",
        "            The point.\n",
        "        k: int\n",
        "            The number of nearest neighbors.\n",
        "        return_dist_sq : boolean\n",
        "            Whether to return the squared Euclidean distances.\n",
        "\n",
        "        Returns\n",
        "        -------\n",
        "        list<array-like>\n",
        "            The nearest neighbors.\n",
        "            If `return_dist_sq` is true, the return will be:\n",
        "                [(dist_sq, point), ...]\n",
        "            else:\n",
        "                [point, ...]\n",
        "        \"\"\"\n",
        "        return self._get_knn(self._root, point, k, return_dist_sq, [])\n",
        "\n",
        "    def get_nearest(self, point, return_dist_sq=True):\n",
        "        \"\"\"Returns the nearest neighbor.\n",
        "\n",
        "        Parameters\n",
        "        ----------\n",
        "        point : array-like\n",
        "            The point.\n",
        "        return_dist_sq : boolean\n",
        "            Whether to return the squared Euclidean distance.\n",
        "\n",
        "        Returns\n",
        "        -------\n",
        "        array-like\n",
        "            The nearest neighbor.\n",
        "            If the tree is empty, returns `None`.\n",
        "            If `return_dist_sq` is true, the return will be:\n",
        "                (dist_sq, point)\n",
        "            else:\n",
        "                point\n",
        "        \"\"\"\n",
        "        l = self._get_knn(self._root, point, 1, return_dist_sq, [])\n",
        "        return l[0] if len(l) else None"
      ],
      "metadata": {
        "id": "fGAX9lpKljar"
      },
      "execution_count": null,
      "outputs": []
    },
    {
      "cell_type": "code",
      "source": [
        "a = np.random.normal(loc=0, scale=1, size=(3,DIM))\n",
        "#a = torch.tensor(a).to(device)\n",
        "\n",
        "def dist_sq(a, b):\n",
        "    return siamese_net(torch.tensor(a).float(), torch.tensor(b).float()).item()"
      ],
      "metadata": {
        "id": "uJN8Tt9z1SOG"
      },
      "execution_count": null,
      "outputs": []
    },
    {
      "cell_type": "code",
      "source": [
        "b = torch.tensor(a).to(device)\n",
        "print(dist_sq(b[0].to(device), b[1].to(device)))\n",
        "print(torch.norm(b[0]-b[1]).item())"
      ],
      "metadata": {
        "colab": {
          "base_uri": "https://localhost:8080/"
        },
        "id": "v40bduVr3viV",
        "outputId": "25d4d325-b93b-47b5-a2cd-ace7e82be828"
      },
      "execution_count": null,
      "outputs": [
        {
          "output_type": "stream",
          "name": "stdout",
          "text": [
            "1.7087277173995972\n",
            "1.6930580002031852\n"
          ]
        },
        {
          "output_type": "stream",
          "name": "stderr",
          "text": [
            "<ipython-input-3-99beb0c5dffc>:5: UserWarning: To copy construct from a tensor, it is recommended to use sourceTensor.clone().detach() or sourceTensor.clone().detach().requires_grad_(True), rather than torch.tensor(sourceTensor).\n",
            "  return siamese_net(torch.tensor(a).float(), torch.tensor(b).float()).item()\n"
          ]
        }
      ]
    },
    {
      "cell_type": "code",
      "source": [
        "def sort_tensor(t, col):\n",
        "    return t[t[:,col].sort()[1]]\n",
        "print(b)\n",
        "print(sort_tensor(b, 4))"
      ],
      "metadata": {
        "colab": {
          "base_uri": "https://localhost:8080/"
        },
        "id": "5Ww7Ooi043P6",
        "outputId": "6a1ddcda-34ff-4e5e-e825-0b2113cca9f5"
      },
      "execution_count": null,
      "outputs": [
        {
          "output_type": "stream",
          "name": "stdout",
          "text": [
            "tensor([[ 0.2000,  1.1227,  0.3647,  0.2223,  0.1345],\n",
            "        [ 1.0494,  1.8829,  0.2816,  1.3538, -0.3945],\n",
            "        [-1.7795, -0.2063,  1.9518, -1.1714, -0.5758]], device='cuda:0',\n",
            "       dtype=torch.float64)\n",
            "tensor([[-1.7795, -0.2063,  1.9518, -1.1714, -0.5758],\n",
            "        [ 1.0494,  1.8829,  0.2816,  1.3538, -0.3945],\n",
            "        [ 0.2000,  1.1227,  0.3647,  0.2223,  0.1345]], device='cuda:0',\n",
            "       dtype=torch.float64)\n"
          ]
        }
      ]
    },
    {
      "cell_type": "code",
      "source": [],
      "metadata": {
        "id": "Dh7BpmYU48pX"
      },
      "execution_count": null,
      "outputs": []
    },
    {
      "cell_type": "code",
      "source": [
        "kd_tree = KDTree(points = b, dim = DIM,dist_sq_func=dist_sq)"
      ],
      "metadata": {
        "id": "O0ZCuVHx3xJW"
      },
      "execution_count": null,
      "outputs": []
    },
    {
      "cell_type": "code",
      "source": [
        "new_point = np.random.normal(loc=0, scale=1, size=(1,DIM))\n",
        "print(new_point)\n",
        "new_point = torch.tensor(new_point[0]).to(device)\n",
        "kd_tree.add_point(new_point)"
      ],
      "metadata": {
        "colab": {
          "base_uri": "https://localhost:8080/"
        },
        "id": "nu4IHcRO37GJ",
        "outputId": "26b7c490-7905-4423-819e-917cda06d9a6"
      },
      "execution_count": null,
      "outputs": [
        {
          "output_type": "stream",
          "name": "stdout",
          "text": [
            "[[-0.88084321 -0.60894597  1.07332512  1.55747779 -0.72482855]]\n"
          ]
        }
      ]
    },
    {
      "cell_type": "code",
      "source": [
        "# KNN Classifier using KDTree\n",
        "class KNNClassifier(object):\n",
        "    def __init__(self, siamese_net, k=1):\n",
        "        self.k = k\n",
        "        self.kd_tree = None\n",
        "        self.labels = None\n",
        "\n",
        "\n",
        "    def dist_sq(a, b):\n",
        "        return siamese_net(torch.tensor(a).float(), torch.tensor(b).float()).item()\n",
        "    def fit(self, X, y):\n",
        "        self.kd_tree = KDTree(X, X.shape[1])\n",
        "        self.labels = y\n",
        "\n",
        "    def predict(self, X):\n",
        "        y_pred = []\n",
        "        for x in X:\n",
        "            neighbors = self.kd_tree.get_knn(x, self.k, return_dist_sq=False) #[label[..,..,..,..,..]]\n",
        "            y_pred.append(np.argmax(np.bincount(self.labels[neighbors])))\n",
        "        return np.array(y_pred)\n",
        "\n",
        "    def score(self, X, y):\n",
        "        y_pred = self.predict(X)\n",
        "        return np.mean(y_pred == y)\n",
        "\n",
        "# Create a KNNClassifier instance\n",
        "knn = KNNClassifier(k=3, siamese_net = siamese_net)\n",
        "\n",
        "\n",
        "# test the classifier\n",
        "a = np.random.normal(loc=0, scale=1, size=(100,DIM))\n",
        "b = np.random.normal(loc=0, scale=1, size=(100,DIM))\n",
        "X = np.concatenate((a, b), axis=0)\n",
        "y = np.array([0]*100 + [1]*100)\n",
        "\n",
        "X = torch.tensor(X).to(device).float()\n",
        "y = torch.tensor(y).to(device)\n",
        "knn.fit(X, y)\n",
        "print(knn.score(X, y))"
      ],
      "metadata": {
        "id": "bXE0L1XQ8592"
      },
      "execution_count": null,
      "outputs": []
    },
    {
      "cell_type": "code",
      "source": [
        "'''\n",
        "[[\n",
        "   label,\n",
        "   [1,2,3,4]\n",
        "],\n",
        "[\n",
        "  label,\n",
        "  [2,3,4,5]\n",
        "]\n",
        "]\n",
        "'''\n",
        "\n",
        "from sklearn.datasets import load_diabetes\n",
        "import torch\n",
        "import numpy as np\n",
        "\n",
        "X, Y = load_diabetes(return_X_y=True)\n",
        "dataset = []\n",
        "for x, y in zip(X, Y):\n",
        "    dataset.append(torch.nested.nested_tensor([torch.tensor(y).view(1,1), torch.tensor(x).view(X.shape[1],1)]))\n",
        "dataset[0]"
      ],
      "metadata": {
        "id": "WlYtGGXz9xFe",
        "colab": {
          "base_uri": "https://localhost:8080/"
        },
        "outputId": "7f7b39d8-67bd-42f8-f3a9-132600b2ff49"
      },
      "execution_count": null,
      "outputs": [
        {
          "output_type": "stream",
          "name": "stderr",
          "text": [
            "<ipython-input-7-8222a1f29c5c>:20: UserWarning: The PyTorch API of nested tensors is in prototype stage and will change in the near future. (Triggered internally at ../aten/src/ATen/NestedTensorImpl.cpp:178.)\n",
            "  dataset.append(torch.nested.nested_tensor([torch.tensor(y).view(1,1), torch.tensor(x).view(X.shape[1],1)]))\n"
          ]
        },
        {
          "output_type": "execute_result",
          "data": {
            "text/plain": [
              "nested_tensor([\n",
              "  tensor([[151.]], dtype=torch.float64),\n",
              "  tensor([[ 0.0381],\n",
              "          [ 0.0507],\n",
              "          [ 0.0617],\n",
              "          [ 0.0219],\n",
              "          [-0.0442],\n",
              "          [-0.0348],\n",
              "          [-0.0434],\n",
              "          [-0.0026],\n",
              "          [ 0.0199],\n",
              "          [-0.0176]], dtype=torch.float64)\n",
              "])"
            ]
          },
          "metadata": {},
          "execution_count": 7
        }
      ]
    },
    {
      "cell_type": "code",
      "source": [],
      "metadata": {
        "id": "RrJ16mD5M3T1"
      },
      "execution_count": null,
      "outputs": []
    }
  ]
}